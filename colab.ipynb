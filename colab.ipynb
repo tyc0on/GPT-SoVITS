{
  "cells": [
    {
      "cell_type": "markdown",
      "metadata": {
        "id": "view-in-github"
      },
      "source": [
        "[![Open In Colab](https://colab.research.google.com/assets/colab-badge.svg)](https://colab.research.google.com/github/tyc0on/GPT-SoVITS/blob/main/colab.ipynb)"
      ]
    },
    {
      "cell_type": "code",
      "execution_count": null,
      "metadata": {
        "id": "VjYy0F2gZIPR"
      },
      "outputs": [],
      "source": [
        "# %cd /content\n",
        "# !git clone -b dev https://github.com/RVC-Boss/GPT-SoVITS\n",
        "# %cd /content/GPT-SoVITS\n",
        "\n",
        "# !pip install -q gradio cached-path munch einops einops-exts phonemizer tortoise-tts\n",
        "# !pip install -q git+https://github.com/resemble-ai/monotonic_align\n",
        "\n",
        "# !apt -y install -qq aria2 espeak-ng\n",
        "\n",
        "# !python webui.py\n",
        "\n",
        "# Step 1: Install Miniconda\n",
        "!wget -c https://repo.anaconda.com/miniconda/Miniconda3-latest-Linux-x86_64.sh\n",
        "!chmod +x Miniconda3-latest-Linux-x86_64.sh\n",
        "!bash ./Miniconda3-latest-Linux-x86_64.sh -b -f -p /usr/local\n",
        "import sys\n",
        "sys.path.append('/usr/local/lib/python3.7/site-packages')\n",
        "\n",
        "# Step 2: Install Conda packages\n",
        "!conda conda install -c conda-forge gcc\n",
        "!conda conda install -c conda-forge gxx\n",
        "!conda conda install ffmpeg cmake\n",
        "!conda conda install pytorch==2.1.1 torchvision==0.16.1 torchaudio==2.1.1 pytorch-cuda=11.8 -c pytorch -c nvidia\n",
        "\n",
        "# Step 3: Install Pip packages from requirements.txt\n",
        "!pip install -r requirements.txt\n",
        "\n",
        "# Step 4: Clone the repository and setup the working directory\n",
        "%cd /content\n",
        "!git clone -b dev https://github.com/RVC-Boss/GPT-SoVITS\n",
        "%cd /content/GPT-SoVITS\n",
        "\n",
        "# Step 5: Run the web UI\n",
        "!python webui.py\n"
      ]
    }
  ],
  "metadata": {
    "accelerator": "GPU",
    "colab": {
      "gpuType": "T4",
      "provenance": []
    },
    "kernelspec": {
      "display_name": "Python 3",
      "name": "python3"
    },
    "language_info": {
      "name": "python"
    }
  },
  "nbformat": 4,
  "nbformat_minor": 0
}
